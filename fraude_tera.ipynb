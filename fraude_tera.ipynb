{
 "cells": [
  {
   "cell_type": "markdown",
   "metadata": {
    "id": "vj9ryguB-Vrs"
   },
   "source": [
    "## Importação dos pacotes"
   ]
  },
  {
   "cell_type": "code",
   "execution_count": 1,
   "metadata": {
    "id": "yaIrxJIO-Vrt",
    "scrolled": false
   },
   "outputs": [],
   "source": [
    "import warnings\n",
    "warnings.filterwarnings('ignore')\n",
    "\n",
    "import pandas as pd\n",
    "import numpy as np\n",
    "\n",
    "import matplotlib.pyplot as plt\n",
    "import seaborn as sns\n",
    "\n",
    "from sklearn.preprocessing import Normalizer, LabelEncoder\n",
    "from sklearn.model_selection import train_test_split\n",
    "from sklearn.ensemble import RandomForestClassifier\n",
    "from sklearn.metrics import accuracy_score\n",
    "from sklearn.metrics import confusion_matrix\n",
    "from sklearn.metrics import ConfusionMatrixDisplay"
   ]
  },
  {
   "cell_type": "code",
   "execution_count": 2,
   "metadata": {
    "id": "HSiYuwrI-Vru"
   },
   "outputs": [],
   "source": [
    "#padroniza valores pandas\n",
    "pd.set_option('display.float_format', lambda x: '%.5f' % x)"
   ]
  },
  {
   "cell_type": "markdown",
   "metadata": {},
   "source": [
    "## Carregando dados"
   ]
  },
  {
   "cell_type": "code",
   "execution_count": 3,
   "metadata": {
    "colab": {
     "base_uri": "https://localhost:8080/"
    },
    "id": "n8e8GhtTHKxm",
    "outputId": "94be434e-1714-4412-a695-81f972daf03e"
   },
   "outputs": [
    {
     "name": "stdout",
     "output_type": "stream",
     "text": [
      "Wall time: 11.9 s\n"
     ]
    },
    {
     "data": {
      "text/html": [
       "<div>\n",
       "<style scoped>\n",
       "    .dataframe tbody tr th:only-of-type {\n",
       "        vertical-align: middle;\n",
       "    }\n",
       "\n",
       "    .dataframe tbody tr th {\n",
       "        vertical-align: top;\n",
       "    }\n",
       "\n",
       "    .dataframe thead th {\n",
       "        text-align: right;\n",
       "    }\n",
       "</style>\n",
       "<table border=\"1\" class=\"dataframe\">\n",
       "  <thead>\n",
       "    <tr style=\"text-align: right;\">\n",
       "      <th></th>\n",
       "      <th>step</th>\n",
       "      <th>type</th>\n",
       "      <th>amount</th>\n",
       "      <th>nameOrig</th>\n",
       "      <th>oldbalanceOrg</th>\n",
       "      <th>newbalanceOrig</th>\n",
       "      <th>nameDest</th>\n",
       "      <th>oldbalanceDest</th>\n",
       "      <th>newbalanceDest</th>\n",
       "      <th>isFraud</th>\n",
       "      <th>isFlaggedFraud</th>\n",
       "    </tr>\n",
       "  </thead>\n",
       "  <tbody>\n",
       "    <tr>\n",
       "      <th>0</th>\n",
       "      <td>1</td>\n",
       "      <td>PAYMENT</td>\n",
       "      <td>9839.64000</td>\n",
       "      <td>C1231006815</td>\n",
       "      <td>170136.00000</td>\n",
       "      <td>160296.36000</td>\n",
       "      <td>M1979787155</td>\n",
       "      <td>0.00000</td>\n",
       "      <td>0.00000</td>\n",
       "      <td>0</td>\n",
       "      <td>0</td>\n",
       "    </tr>\n",
       "    <tr>\n",
       "      <th>1</th>\n",
       "      <td>1</td>\n",
       "      <td>PAYMENT</td>\n",
       "      <td>1864.28000</td>\n",
       "      <td>C1666544295</td>\n",
       "      <td>21249.00000</td>\n",
       "      <td>19384.72000</td>\n",
       "      <td>M2044282225</td>\n",
       "      <td>0.00000</td>\n",
       "      <td>0.00000</td>\n",
       "      <td>0</td>\n",
       "      <td>0</td>\n",
       "    </tr>\n",
       "  </tbody>\n",
       "</table>\n",
       "</div>"
      ],
      "text/plain": [
       "   step     type     amount     nameOrig  oldbalanceOrg  newbalanceOrig  \\\n",
       "0     1  PAYMENT 9839.64000  C1231006815   170136.00000    160296.36000   \n",
       "1     1  PAYMENT 1864.28000  C1666544295    21249.00000     19384.72000   \n",
       "\n",
       "      nameDest  oldbalanceDest  newbalanceDest  isFraud  isFlaggedFraud  \n",
       "0  M1979787155         0.00000         0.00000        0               0  \n",
       "1  M2044282225         0.00000         0.00000        0               0  "
      ]
     },
     "execution_count": 3,
     "metadata": {},
     "output_type": "execute_result"
    }
   ],
   "source": [
    "%%time\n",
    "data = pd.read_csv('fraud_detection_dataset.csv')\n",
    "data.head(2)"
   ]
  },
  {
   "cell_type": "markdown",
   "metadata": {
    "id": "My1rZlQAHAS9"
   },
   "source": [
    "## Analise"
   ]
  },
  {
   "cell_type": "code",
   "execution_count": 4,
   "metadata": {
    "colab": {
     "base_uri": "https://localhost:8080/"
    },
    "id": "wkjLaGK9-Vrw",
    "outputId": "20d508a2-93de-480a-d089-e627a7b3744c",
    "scrolled": true
   },
   "outputs": [
    {
     "name": "stdout",
     "output_type": "stream",
     "text": [
      "<class 'pandas.core.frame.DataFrame'>\n",
      "RangeIndex: 6362620 entries, 0 to 6362619\n",
      "Data columns (total 11 columns):\n",
      " #   Column          Dtype  \n",
      "---  ------          -----  \n",
      " 0   step            int64  \n",
      " 1   type            object \n",
      " 2   amount          float64\n",
      " 3   nameOrig        object \n",
      " 4   oldbalanceOrg   float64\n",
      " 5   newbalanceOrig  float64\n",
      " 6   nameDest        object \n",
      " 7   oldbalanceDest  float64\n",
      " 8   newbalanceDest  float64\n",
      " 9   isFraud         int64  \n",
      " 10  isFlaggedFraud  int64  \n",
      "dtypes: float64(5), int64(3), object(3)\n",
      "memory usage: 534.0+ MB\n"
     ]
    }
   ],
   "source": [
    "data.info()"
   ]
  },
  {
   "cell_type": "code",
   "execution_count": 5,
   "metadata": {
    "colab": {
     "base_uri": "https://localhost:8080/"
    },
    "id": "L_ZVRzK0-Vrw",
    "outputId": "d22ebfd9-4983-4f73-bfb6-9540fded71e3"
   },
   "outputs": [
    {
     "data": {
      "text/plain": [
       "step              0\n",
       "type              0\n",
       "amount            0\n",
       "nameOrig          0\n",
       "oldbalanceOrg     0\n",
       "newbalanceOrig    0\n",
       "nameDest          0\n",
       "oldbalanceDest    0\n",
       "newbalanceDest    0\n",
       "isFraud           0\n",
       "isFlaggedFraud    0\n",
       "dtype: int64"
      ]
     },
     "execution_count": 5,
     "metadata": {},
     "output_type": "execute_result"
    }
   ],
   "source": [
    "#verificando nulos\n",
    "data.isnull().sum()"
   ]
  },
  {
   "cell_type": "code",
   "execution_count": 6,
   "metadata": {
    "id": "jM4J6h2u7VB5",
    "outputId": "a39b4485-f8df-4039-b0ce-43cbcf20e8c0"
   },
   "outputs": [
    {
     "data": {
      "text/html": [
       "<div>\n",
       "<style scoped>\n",
       "    .dataframe tbody tr th:only-of-type {\n",
       "        vertical-align: middle;\n",
       "    }\n",
       "\n",
       "    .dataframe tbody tr th {\n",
       "        vertical-align: top;\n",
       "    }\n",
       "\n",
       "    .dataframe thead th {\n",
       "        text-align: right;\n",
       "    }\n",
       "</style>\n",
       "<table border=\"1\" class=\"dataframe\">\n",
       "  <thead>\n",
       "    <tr style=\"text-align: right;\">\n",
       "      <th></th>\n",
       "      <th>step</th>\n",
       "      <th>amount</th>\n",
       "      <th>oldbalanceOrg</th>\n",
       "      <th>newbalanceOrig</th>\n",
       "      <th>oldbalanceDest</th>\n",
       "      <th>newbalanceDest</th>\n",
       "      <th>isFraud</th>\n",
       "      <th>isFlaggedFraud</th>\n",
       "    </tr>\n",
       "  </thead>\n",
       "  <tbody>\n",
       "    <tr>\n",
       "      <th>count</th>\n",
       "      <td>6362620.00000</td>\n",
       "      <td>6362620.00000</td>\n",
       "      <td>6362620.00000</td>\n",
       "      <td>6362620.00000</td>\n",
       "      <td>6362620.00000</td>\n",
       "      <td>6362620.00000</td>\n",
       "      <td>6362620.00000</td>\n",
       "      <td>6362620.00000</td>\n",
       "    </tr>\n",
       "    <tr>\n",
       "      <th>mean</th>\n",
       "      <td>243.39725</td>\n",
       "      <td>179861.90355</td>\n",
       "      <td>833883.10407</td>\n",
       "      <td>855113.66858</td>\n",
       "      <td>1100701.66652</td>\n",
       "      <td>1224996.39820</td>\n",
       "      <td>0.00129</td>\n",
       "      <td>0.00000</td>\n",
       "    </tr>\n",
       "    <tr>\n",
       "      <th>std</th>\n",
       "      <td>142.33197</td>\n",
       "      <td>603858.23146</td>\n",
       "      <td>2888242.67301</td>\n",
       "      <td>2924048.50297</td>\n",
       "      <td>3399180.11297</td>\n",
       "      <td>3674128.94209</td>\n",
       "      <td>0.03590</td>\n",
       "      <td>0.00159</td>\n",
       "    </tr>\n",
       "    <tr>\n",
       "      <th>min</th>\n",
       "      <td>1.00000</td>\n",
       "      <td>0.00000</td>\n",
       "      <td>0.00000</td>\n",
       "      <td>0.00000</td>\n",
       "      <td>0.00000</td>\n",
       "      <td>0.00000</td>\n",
       "      <td>0.00000</td>\n",
       "      <td>0.00000</td>\n",
       "    </tr>\n",
       "    <tr>\n",
       "      <th>25%</th>\n",
       "      <td>156.00000</td>\n",
       "      <td>13389.57000</td>\n",
       "      <td>0.00000</td>\n",
       "      <td>0.00000</td>\n",
       "      <td>0.00000</td>\n",
       "      <td>0.00000</td>\n",
       "      <td>0.00000</td>\n",
       "      <td>0.00000</td>\n",
       "    </tr>\n",
       "    <tr>\n",
       "      <th>50%</th>\n",
       "      <td>239.00000</td>\n",
       "      <td>74871.94000</td>\n",
       "      <td>14208.00000</td>\n",
       "      <td>0.00000</td>\n",
       "      <td>132705.66500</td>\n",
       "      <td>214661.44000</td>\n",
       "      <td>0.00000</td>\n",
       "      <td>0.00000</td>\n",
       "    </tr>\n",
       "    <tr>\n",
       "      <th>75%</th>\n",
       "      <td>335.00000</td>\n",
       "      <td>208721.47750</td>\n",
       "      <td>107315.17500</td>\n",
       "      <td>144258.41000</td>\n",
       "      <td>943036.70750</td>\n",
       "      <td>1111909.25000</td>\n",
       "      <td>0.00000</td>\n",
       "      <td>0.00000</td>\n",
       "    </tr>\n",
       "    <tr>\n",
       "      <th>max</th>\n",
       "      <td>743.00000</td>\n",
       "      <td>92445516.64000</td>\n",
       "      <td>59585040.37000</td>\n",
       "      <td>49585040.37000</td>\n",
       "      <td>356015889.35000</td>\n",
       "      <td>356179278.92000</td>\n",
       "      <td>1.00000</td>\n",
       "      <td>1.00000</td>\n",
       "    </tr>\n",
       "  </tbody>\n",
       "</table>\n",
       "</div>"
      ],
      "text/plain": [
       "               step         amount  oldbalanceOrg  newbalanceOrig  \\\n",
       "count 6362620.00000  6362620.00000  6362620.00000   6362620.00000   \n",
       "mean      243.39725   179861.90355   833883.10407    855113.66858   \n",
       "std       142.33197   603858.23146  2888242.67301   2924048.50297   \n",
       "min         1.00000        0.00000        0.00000         0.00000   \n",
       "25%       156.00000    13389.57000        0.00000         0.00000   \n",
       "50%       239.00000    74871.94000    14208.00000         0.00000   \n",
       "75%       335.00000   208721.47750   107315.17500    144258.41000   \n",
       "max       743.00000 92445516.64000 59585040.37000  49585040.37000   \n",
       "\n",
       "       oldbalanceDest  newbalanceDest       isFraud  isFlaggedFraud  \n",
       "count   6362620.00000   6362620.00000 6362620.00000   6362620.00000  \n",
       "mean    1100701.66652   1224996.39820       0.00129         0.00000  \n",
       "std     3399180.11297   3674128.94209       0.03590         0.00159  \n",
       "min           0.00000         0.00000       0.00000         0.00000  \n",
       "25%           0.00000         0.00000       0.00000         0.00000  \n",
       "50%      132705.66500    214661.44000       0.00000         0.00000  \n",
       "75%      943036.70750   1111909.25000       0.00000         0.00000  \n",
       "max   356015889.35000 356179278.92000       1.00000         1.00000  "
      ]
     },
     "execution_count": 6,
     "metadata": {},
     "output_type": "execute_result"
    }
   ],
   "source": [
    "data.describe()"
   ]
  },
  {
   "cell_type": "code",
   "execution_count": 7,
   "metadata": {
    "colab": {
     "base_uri": "https://localhost:8080/",
     "height": 427
    },
    "id": "kAAr06xg-Vrx",
    "outputId": "c125a307-a856-4a45-bf20-a9108c2b9970"
   },
   "outputs": [
    {
     "name": "stdout",
     "output_type": "stream",
     "text": [
      "CASH_OUT    2237500\n",
      "PAYMENT     2151495\n",
      "CASH_IN     1399284\n",
      "TRANSFER     532909\n",
      "DEBIT         41432\n",
      "Name: type, dtype: int64\n"
     ]
    },
    {
     "data": {
      "text/plain": [
       "<AxesSubplot:xlabel='type', ylabel='count'>"
      ]
     },
     "execution_count": 7,
     "metadata": {},
     "output_type": "execute_result"
    },
    {
     "data": {
      "image/png": "[encoded data removed]",
      "text/plain": [
       "<Figure size 640x480 with 1 Axes>"
      ]
     },
     "metadata": {},
     "output_type": "display_data"
    }
   ],
   "source": [
    "print(data[\"type\"].value_counts())\n",
    "sns.countplot(x=\"type\", data=data)"
   ]
  },
  {
   "cell_type": "code",
   "execution_count": 8,
   "metadata": {
    "colab": {
     "base_uri": "https://localhost:8080/",
     "height": 375
    },
    "id": "8fUWL55O-Vry",
    "outputId": "54d0d272-bdb4-4544-e2f8-a240d1d5e51c"
   },
   "outputs": [
    {
     "name": "stdout",
     "output_type": "stream",
     "text": [
      "0    6354407\n",
      "1       8213\n",
      "Name: isFraud, dtype: int64\n"
     ]
    },
    {
     "data": {
      "text/plain": [
       "<AxesSubplot:xlabel='isFraud', ylabel='count'>"
      ]
     },
     "execution_count": 8,
     "metadata": {},
     "output_type": "execute_result"
    },
    {
     "data": {
      "image/png": "[encoded data removed]",
      "text/plain": [
       "<Figure size 640x480 with 1 Axes>"
      ]
     },
     "metadata": {},
     "output_type": "display_data"
    }
   ],
   "source": [
    "print(data[\"isFraud\"].value_counts())\n",
    "sns.countplot(x=\"isFraud\", data=data)"
   ]
  },
  {
   "cell_type": "code",
   "execution_count": 9,
   "metadata": {
    "colab": {
     "base_uri": "https://localhost:8080/",
     "height": 375
    },
    "id": "h8cs5HAX-Vry",
    "outputId": "3d8ab725-7092-4680-c4cd-2b6989b20ccf"
   },
   "outputs": [
    {
     "name": "stdout",
     "output_type": "stream",
     "text": [
      "0    6362604\n",
      "1         16\n",
      "Name: isFlaggedFraud, dtype: int64\n"
     ]
    },
    {
     "data": {
      "text/plain": [
       "<AxesSubplot:xlabel='isFlaggedFraud', ylabel='count'>"
      ]
     },
     "execution_count": 9,
     "metadata": {},
     "output_type": "execute_result"
    },
    {
     "data": {
      "image/png": "[encoded data removed]",
      "text/plain": [
       "<Figure size 640x480 with 1 Axes>"
      ]
     },
     "metadata": {},
     "output_type": "display_data"
    }
   ],
   "source": [
    "print(data[\"isFlaggedFraud\"].value_counts())\n",
    "sns.countplot(x=\"isFlaggedFraud\", data=data)"
   ]
  },
  {
   "cell_type": "markdown",
   "metadata": {
    "id": "HHp5q9Pv7VB4"
   },
   "source": [
    "### Tratamento de dados"
   ]
  },
  {
   "cell_type": "code",
   "execution_count": 10,
   "metadata": {
    "id": "VAyua_wg7VB5",
    "outputId": "91797081-5b5c-4115-833c-122d9471c43d"
   },
   "outputs": [
    {
     "data": {
      "text/plain": [
       "(6362620, 11)"
      ]
     },
     "execution_count": 10,
     "metadata": {},
     "output_type": "execute_result"
    }
   ],
   "source": [
    "data.shape"
   ]
  },
  {
   "cell_type": "code",
   "execution_count": 11,
   "metadata": {
    "id": "DoL1DAqp7VB6",
    "outputId": "46b8e7e6-7627-4fbb-c00c-da9a27f4a7fb"
   },
   "outputs": [],
   "source": [
    "data.drop_duplicates(keep=False, inplace=True)"
   ]
  },
  {
   "cell_type": "code",
   "execution_count": 12,
   "metadata": {
    "id": "jKOzs3CD7VB6",
    "outputId": "cca71c0e-d028-4ceb-c013-8a051cb4b138"
   },
   "outputs": [
    {
     "data": {
      "text/plain": [
       "(6362620, 11)"
      ]
     },
     "execution_count": 12,
     "metadata": {},
     "output_type": "execute_result"
    }
   ],
   "source": [
    "data.shape"
   ]
  },
  {
   "cell_type": "code",
   "execution_count": 13,
   "metadata": {
    "colab": {
     "base_uri": "https://localhost:8080/"
    },
    "id": "r8d3sZzZ-Vry",
    "outputId": "7c8cae76-1258-4972-faff-b418e559a4f5",
    "scrolled": true
   },
   "outputs": [
    {
     "data": {
      "text/html": [
       "<div>\n",
       "<style scoped>\n",
       "    .dataframe tbody tr th:only-of-type {\n",
       "        vertical-align: middle;\n",
       "    }\n",
       "\n",
       "    .dataframe tbody tr th {\n",
       "        vertical-align: top;\n",
       "    }\n",
       "\n",
       "    .dataframe thead th {\n",
       "        text-align: right;\n",
       "    }\n",
       "</style>\n",
       "<table border=\"1\" class=\"dataframe\">\n",
       "  <thead>\n",
       "    <tr style=\"text-align: right;\">\n",
       "      <th></th>\n",
       "      <th>step</th>\n",
       "      <th>type</th>\n",
       "      <th>amount</th>\n",
       "      <th>nameOrig</th>\n",
       "      <th>oldbalanceOrg</th>\n",
       "      <th>newbalanceOrig</th>\n",
       "      <th>nameDest</th>\n",
       "      <th>oldbalanceDest</th>\n",
       "      <th>newbalanceDest</th>\n",
       "      <th>isFraud</th>\n",
       "      <th>isFlaggedFraud</th>\n",
       "      <th>transfer_amount_category</th>\n",
       "    </tr>\n",
       "  </thead>\n",
       "  <tbody>\n",
       "    <tr>\n",
       "      <th>0</th>\n",
       "      <td>1</td>\n",
       "      <td>PAYMENT</td>\n",
       "      <td>9839.64000</td>\n",
       "      <td>C1231006815</td>\n",
       "      <td>170136.00000</td>\n",
       "      <td>160296.36000</td>\n",
       "      <td>M1979787155</td>\n",
       "      <td>0.00000</td>\n",
       "      <td>0.00000</td>\n",
       "      <td>0</td>\n",
       "      <td>0</td>\n",
       "      <td>baixo</td>\n",
       "    </tr>\n",
       "    <tr>\n",
       "      <th>1</th>\n",
       "      <td>1</td>\n",
       "      <td>PAYMENT</td>\n",
       "      <td>1864.28000</td>\n",
       "      <td>C1666544295</td>\n",
       "      <td>21249.00000</td>\n",
       "      <td>19384.72000</td>\n",
       "      <td>M2044282225</td>\n",
       "      <td>0.00000</td>\n",
       "      <td>0.00000</td>\n",
       "      <td>0</td>\n",
       "      <td>0</td>\n",
       "      <td>baixo</td>\n",
       "    </tr>\n",
       "  </tbody>\n",
       "</table>\n",
       "</div>"
      ],
      "text/plain": [
       "   step     type     amount     nameOrig  oldbalanceOrg  newbalanceOrig  \\\n",
       "0     1  PAYMENT 9839.64000  C1231006815   170136.00000    160296.36000   \n",
       "1     1  PAYMENT 1864.28000  C1666544295    21249.00000     19384.72000   \n",
       "\n",
       "      nameDest  oldbalanceDest  newbalanceDest  isFraud  isFlaggedFraud  \\\n",
       "0  M1979787155         0.00000         0.00000        0               0   \n",
       "1  M2044282225         0.00000         0.00000        0               0   \n",
       "\n",
       "  transfer_amount_category  \n",
       "0                    baixo  \n",
       "1                    baixo  "
      ]
     },
     "execution_count": 13,
     "metadata": {},
     "output_type": "execute_result"
    }
   ],
   "source": [
    "def transfer_category(x):\n",
    "    if x >= 100000:\n",
    "        return('alto')\n",
    "    elif x < 100000 and x >= 10000:\n",
    "        return('medio')\n",
    "    elif x < 10000:\n",
    "        return('baixo')\n",
    "    else:\n",
    "        return(\"null\")\n",
    "data['transfer_amount_category'] = data[\"amount\"].apply(transfer_category)    \n",
    "data.head(2)"
   ]
  },
  {
   "cell_type": "code",
   "execution_count": 14,
   "metadata": {},
   "outputs": [
    {
     "data": {
      "text/plain": [
       "alto     2837364\n",
       "medio    2239253\n",
       "baixo    1286003\n",
       "Name: transfer_amount_category, dtype: int64"
      ]
     },
     "execution_count": 14,
     "metadata": {},
     "output_type": "execute_result"
    }
   ],
   "source": [
    "data['transfer_amount_category'].value_counts()"
   ]
  },
  {
   "cell_type": "code",
   "execution_count": 15,
   "metadata": {},
   "outputs": [
    {
     "name": "stdout",
     "output_type": "stream",
     "text": [
      "0    2830858\n",
      "1       6506\n",
      "Name: isFraud, dtype: int64\n",
      "0    2237824\n",
      "1       1429\n",
      "Name: isFraud, dtype: int64\n",
      "0    1285725\n",
      "1        278\n",
      "Name: isFraud, dtype: int64\n"
     ]
    }
   ],
   "source": [
    "print(data[data[\"transfer_amount_category\"] == \"alto\"][\"isFraud\"].value_counts())\n",
    "print(data[data[\"transfer_amount_category\"] == \"medio\"][\"isFraud\"].value_counts())\n",
    "print(data[data[\"transfer_amount_category\"] == \"baixo\"][\"isFraud\"].value_counts())"
   ]
  },
  {
   "cell_type": "code",
   "execution_count": 18,
   "metadata": {},
   "outputs": [
    {
     "name": "stdout",
     "output_type": "stream",
     "text": [
      "formas de transferencias totais:\n",
      " CASH_OUT    2237500\n",
      "PAYMENT     2151495\n",
      "CASH_IN     1399284\n",
      "TRANSFER     532909\n",
      "DEBIT         41432\n",
      "Name: type, dtype: int64\n",
      "-------\n",
      "formas de transferencias fraudulentas:\n",
      " CASH_OUT    4116\n",
      "TRANSFER    4097\n",
      "Name: type, dtype: int64\n"
     ]
    },
    {
     "data": {
      "text/plain": [
       "<AxesSubplot:xlabel='type', ylabel='count'>"
      ]
     },
     "execution_count": 18,
     "metadata": {},
     "output_type": "execute_result"
    },
    {
     "data": {
      "image/png": "[encoded data removed]",
      "text/plain": [
       "<Figure size 640x480 with 1 Axes>"
      ]
     },
     "metadata": {},
     "output_type": "display_data"
    }
   ],
   "source": [
    "print(\"formas de transferencias totais:\\n\", data[\"type\"].value_counts())\n",
    "print(\"-------\")\n",
    "print(\"formas de transferencias fraudulentas:\\n\", data[data[\"isFraud\"]==1][\"type\"].value_counts())\n",
    "sns.countplot(x=\"type\", data=data[data[\"isFraud\"]==1])"
   ]
  },
  {
   "cell_type": "markdown",
   "metadata": {
    "id": "NMogVDP3-Vrz"
   },
   "source": [
    "### Preparação para modelo"
   ]
  },
  {
   "cell_type": "code",
   "execution_count": 19,
   "metadata": {
    "colab": {
     "base_uri": "https://localhost:8080/"
    },
    "id": "qyjldodW-Vrz",
    "outputId": "aec61d92-e04f-40e8-c821-67872f982426"
   },
   "outputs": [],
   "source": [
    "label_encoder = LabelEncoder() \n",
    "data['type_encode'] = label_encoder.fit_transform(data['type']) \n",
    "data['nameOrig_encode'] = label_encoder.fit_transform(data['nameOrig']) \n",
    "data['nameDest_encode'] = label_encoder.fit_transform(data['nameDest']) \n",
    "data['transfer_amount_category_encode'] = label_encoder.fit_transform(data['transfer_amount_category']) "
   ]
  },
  {
   "cell_type": "code",
   "execution_count": 20,
   "metadata": {
    "id": "9u0tH5UB7VB9",
    "outputId": "6b8939dc-0718-4748-968d-0e7fb4cd4e8d"
   },
   "outputs": [
    {
     "data": {
      "text/html": [
       "<div>\n",
       "<style scoped>\n",
       "    .dataframe tbody tr th:only-of-type {\n",
       "        vertical-align: middle;\n",
       "    }\n",
       "\n",
       "    .dataframe tbody tr th {\n",
       "        vertical-align: top;\n",
       "    }\n",
       "\n",
       "    .dataframe thead th {\n",
       "        text-align: right;\n",
       "    }\n",
       "</style>\n",
       "<table border=\"1\" class=\"dataframe\">\n",
       "  <thead>\n",
       "    <tr style=\"text-align: right;\">\n",
       "      <th></th>\n",
       "      <th>step</th>\n",
       "      <th>type</th>\n",
       "      <th>amount</th>\n",
       "      <th>nameOrig</th>\n",
       "      <th>oldbalanceOrg</th>\n",
       "      <th>newbalanceOrig</th>\n",
       "      <th>nameDest</th>\n",
       "      <th>oldbalanceDest</th>\n",
       "      <th>newbalanceDest</th>\n",
       "      <th>isFraud</th>\n",
       "      <th>isFlaggedFraud</th>\n",
       "      <th>transfer_amount_category</th>\n",
       "      <th>balance_percentage</th>\n",
       "      <th>type_encode</th>\n",
       "      <th>nameOrig_encode</th>\n",
       "      <th>nameDest_encode</th>\n",
       "      <th>transfer_amount_category_encode</th>\n",
       "    </tr>\n",
       "  </thead>\n",
       "  <tbody>\n",
       "    <tr>\n",
       "      <th>0</th>\n",
       "      <td>1</td>\n",
       "      <td>PAYMENT</td>\n",
       "      <td>9839.64000</td>\n",
       "      <td>C1231006815</td>\n",
       "      <td>170136.00000</td>\n",
       "      <td>160296.36000</td>\n",
       "      <td>M1979787155</td>\n",
       "      <td>0.00000</td>\n",
       "      <td>0.00000</td>\n",
       "      <td>0</td>\n",
       "      <td>0</td>\n",
       "      <td>baixo</td>\n",
       "      <td>5.78340</td>\n",
       "      <td>3</td>\n",
       "      <td>757869</td>\n",
       "      <td>1662094</td>\n",
       "      <td>1</td>\n",
       "    </tr>\n",
       "    <tr>\n",
       "      <th>1</th>\n",
       "      <td>1</td>\n",
       "      <td>PAYMENT</td>\n",
       "      <td>1864.28000</td>\n",
       "      <td>C1666544295</td>\n",
       "      <td>21249.00000</td>\n",
       "      <td>19384.72000</td>\n",
       "      <td>M2044282225</td>\n",
       "      <td>0.00000</td>\n",
       "      <td>0.00000</td>\n",
       "      <td>0</td>\n",
       "      <td>0</td>\n",
       "      <td>baixo</td>\n",
       "      <td>8.77350</td>\n",
       "      <td>3</td>\n",
       "      <td>2188998</td>\n",
       "      <td>1733924</td>\n",
       "      <td>1</td>\n",
       "    </tr>\n",
       "  </tbody>\n",
       "</table>\n",
       "</div>"
      ],
      "text/plain": [
       "   step     type     amount     nameOrig  oldbalanceOrg  newbalanceOrig  \\\n",
       "0     1  PAYMENT 9839.64000  C1231006815   170136.00000    160296.36000   \n",
       "1     1  PAYMENT 1864.28000  C1666544295    21249.00000     19384.72000   \n",
       "\n",
       "      nameDest  oldbalanceDest  newbalanceDest  isFraud  isFlaggedFraud  \\\n",
       "0  M1979787155         0.00000         0.00000        0               0   \n",
       "1  M2044282225         0.00000         0.00000        0               0   \n",
       "\n",
       "  transfer_amount_category  balance_percentage  type_encode  nameOrig_encode  \\\n",
       "0                    baixo             5.78340            3           757869   \n",
       "1                    baixo             8.77350            3          2188998   \n",
       "\n",
       "   nameDest_encode  transfer_amount_category_encode  \n",
       "0          1662094                                1  \n",
       "1          1733924                                1  "
      ]
     },
     "execution_count": 20,
     "metadata": {},
     "output_type": "execute_result"
    }
   ],
   "source": [
    "data.head(2)"
   ]
  },
  {
   "cell_type": "code",
   "execution_count": 21,
   "metadata": {
    "colab": {
     "base_uri": "https://localhost:8080/"
    },
    "id": "K2_lFCmz-Vrz",
    "outputId": "5eabb8a9-c271-4d48-edc6-04bdcf546d6e"
   },
   "outputs": [],
   "source": [
    "normalizer = Normalizer()\n",
    "amount_scale = normalizer.fit_transform(data.amount.values.reshape(1,-1))\n",
    "data['amount_norm'] = amount_scale.reshape(-1,1)\n",
    "amount_oldbalanceOrg = normalizer.fit_transform(data.oldbalanceOrg.values.reshape(1,-1))\n",
    "data['oldbalanceOrg_norm'] = amount_oldbalanceOrg.reshape(-1,1)\n",
    "amount_newbalanceOrig = normalizer.fit_transform(data.newbalanceOrig.values.reshape(1,-1))\n",
    "data['newbalanceOrig_norm'] = amount_newbalanceOrig.reshape(-1,1)\n",
    "amount_oldbalanceDest= normalizer.fit_transform(data.oldbalanceDest.values.reshape(1,-1))\n",
    "data['oldbalanceDest_norm'] = amount_oldbalanceDest.reshape(-1,1)\n",
    "amount_newbalanceDest = normalizer.fit_transform(data.newbalanceDest.values.reshape(1,-1))\n",
    "data['newbalanceDest_norm'] = amount_newbalanceDest.reshape(-1,1)"
   ]
  },
  {
   "cell_type": "code",
   "execution_count": 22,
   "metadata": {
    "id": "2ckjSdEl7VB-",
    "outputId": "0267432e-aae0-4a92-af8b-1e23cc2b7960"
   },
   "outputs": [
    {
     "data": {
      "text/html": [
       "<div>\n",
       "<style scoped>\n",
       "    .dataframe tbody tr th:only-of-type {\n",
       "        vertical-align: middle;\n",
       "    }\n",
       "\n",
       "    .dataframe tbody tr th {\n",
       "        vertical-align: top;\n",
       "    }\n",
       "\n",
       "    .dataframe thead th {\n",
       "        text-align: right;\n",
       "    }\n",
       "</style>\n",
       "<table border=\"1\" class=\"dataframe\">\n",
       "  <thead>\n",
       "    <tr style=\"text-align: right;\">\n",
       "      <th></th>\n",
       "      <th>step</th>\n",
       "      <th>type</th>\n",
       "      <th>amount</th>\n",
       "      <th>nameOrig</th>\n",
       "      <th>oldbalanceOrg</th>\n",
       "      <th>newbalanceOrig</th>\n",
       "      <th>nameDest</th>\n",
       "      <th>oldbalanceDest</th>\n",
       "      <th>newbalanceDest</th>\n",
       "      <th>isFraud</th>\n",
       "      <th>...</th>\n",
       "      <th>balance_percentage</th>\n",
       "      <th>type_encode</th>\n",
       "      <th>nameOrig_encode</th>\n",
       "      <th>nameDest_encode</th>\n",
       "      <th>transfer_amount_category_encode</th>\n",
       "      <th>amount_norm</th>\n",
       "      <th>oldbalanceOrg_norm</th>\n",
       "      <th>newbalanceOrig_norm</th>\n",
       "      <th>oldbalanceDest_norm</th>\n",
       "      <th>newbalanceDest_norm</th>\n",
       "    </tr>\n",
       "  </thead>\n",
       "  <tbody>\n",
       "    <tr>\n",
       "      <th>0</th>\n",
       "      <td>1</td>\n",
       "      <td>PAYMENT</td>\n",
       "      <td>9839.64000</td>\n",
       "      <td>C1231006815</td>\n",
       "      <td>170136.00000</td>\n",
       "      <td>160296.36000</td>\n",
       "      <td>M1979787155</td>\n",
       "      <td>0.00000</td>\n",
       "      <td>0.00000</td>\n",
       "      <td>0</td>\n",
       "      <td>...</td>\n",
       "      <td>5.78340</td>\n",
       "      <td>3</td>\n",
       "      <td>757869</td>\n",
       "      <td>1662094</td>\n",
       "      <td>1</td>\n",
       "      <td>0.00001</td>\n",
       "      <td>0.00002</td>\n",
       "      <td>0.00002</td>\n",
       "      <td>0.00000</td>\n",
       "      <td>0.00000</td>\n",
       "    </tr>\n",
       "    <tr>\n",
       "      <th>1</th>\n",
       "      <td>1</td>\n",
       "      <td>PAYMENT</td>\n",
       "      <td>1864.28000</td>\n",
       "      <td>C1666544295</td>\n",
       "      <td>21249.00000</td>\n",
       "      <td>19384.72000</td>\n",
       "      <td>M2044282225</td>\n",
       "      <td>0.00000</td>\n",
       "      <td>0.00000</td>\n",
       "      <td>0</td>\n",
       "      <td>...</td>\n",
       "      <td>8.77350</td>\n",
       "      <td>3</td>\n",
       "      <td>2188998</td>\n",
       "      <td>1733924</td>\n",
       "      <td>1</td>\n",
       "      <td>0.00000</td>\n",
       "      <td>0.00000</td>\n",
       "      <td>0.00000</td>\n",
       "      <td>0.00000</td>\n",
       "      <td>0.00000</td>\n",
       "    </tr>\n",
       "  </tbody>\n",
       "</table>\n",
       "<p>2 rows × 22 columns</p>\n",
       "</div>"
      ],
      "text/plain": [
       "   step     type     amount     nameOrig  oldbalanceOrg  newbalanceOrig  \\\n",
       "0     1  PAYMENT 9839.64000  C1231006815   170136.00000    160296.36000   \n",
       "1     1  PAYMENT 1864.28000  C1666544295    21249.00000     19384.72000   \n",
       "\n",
       "      nameDest  oldbalanceDest  newbalanceDest  isFraud  ...  \\\n",
       "0  M1979787155         0.00000         0.00000        0  ...   \n",
       "1  M2044282225         0.00000         0.00000        0  ...   \n",
       "\n",
       "   balance_percentage type_encode  nameOrig_encode  nameDest_encode  \\\n",
       "0             5.78340           3           757869          1662094   \n",
       "1             8.77350           3          2188998          1733924   \n",
       "\n",
       "   transfer_amount_category_encode  amount_norm  oldbalanceOrg_norm  \\\n",
       "0                                1      0.00001             0.00002   \n",
       "1                                1      0.00000             0.00000   \n",
       "\n",
       "   newbalanceOrig_norm  oldbalanceDest_norm  newbalanceDest_norm  \n",
       "0              0.00002              0.00000              0.00000  \n",
       "1              0.00000              0.00000              0.00000  \n",
       "\n",
       "[2 rows x 22 columns]"
      ]
     },
     "execution_count": 22,
     "metadata": {},
     "output_type": "execute_result"
    }
   ],
   "source": [
    "data.head(2)"
   ]
  },
  {
   "cell_type": "markdown",
   "metadata": {
    "id": "LCblGyqi-Vr0",
    "tags": []
   },
   "source": [
    "## Modelagem"
   ]
  },
  {
   "cell_type": "code",
   "execution_count": 23,
   "metadata": {
    "id": "W4giiQ8O-Vr0",
    "outputId": "ae138033-8e2c-4fe8-e328-f7d6216d6159"
   },
   "outputs": [],
   "source": [
    "X = data[['type_encode','nameOrig_encode','nameDest_encode',\n",
    "          'transfer_amount_category_encode','amount_norm',\n",
    "          'oldbalanceOrg_norm','newbalanceOrig_norm',\n",
    "          'oldbalanceDest_norm','newbalanceDest_norm']]\n",
    "y = data[\"isFraud\"]\n",
    "X_train, X_test, y_train, y_test = train_test_split(X, y,\n",
    "                                                    test_size = 0.33, \n",
    "                                                    stratify=y,\n",
    "                                                    random_state = 40)\n",
    "\n",
    "X_train = X_train.astype(np.float32)\n",
    "X_test = X_test.astype(np.float32)"
   ]
  },
  {
   "cell_type": "code",
   "execution_count": 24,
   "metadata": {
    "colab": {
     "base_uri": "https://localhost:8080/"
    },
    "id": "d3RBE-RY-Vr0",
    "outputId": "16e08521-cebf-4948-a2c4-9d199a9937cb"
   },
   "outputs": [
    {
     "name": "stdout",
     "output_type": "stream",
     "text": [
      "Wall time: 1min 46s\n"
     ]
    },
    {
     "data": {
      "text/plain": [
       "RandomForestClassifier(n_estimators=5, random_state=40)"
      ]
     },
     "execution_count": 24,
     "metadata": {},
     "output_type": "execute_result"
    }
   ],
   "source": [
    "%%time\n",
    "#criando e treinando modelo randomForest\n",
    "model = RandomForestClassifier(n_estimators = 5, random_state = 40)\n",
    "  \n",
    "model.fit(X_train, y_train) "
   ]
  },
  {
   "cell_type": "code",
   "execution_count": 25,
   "metadata": {
    "colab": {
     "base_uri": "https://localhost:8080/"
    },
    "id": "DR0bC89l-Vr0",
    "outputId": "3063d9ec-2376-4ee0-df3c-48199cda568b"
   },
   "outputs": [
    {
     "name": "stdout",
     "output_type": "stream",
     "text": [
      "precisão:  0.9996042225783637\n",
      "confusion_matrix:  [[2096930      25]\n",
      " [    806    1904]]\n"
     ]
    }
   ],
   "source": [
    "#predições\n",
    "pred = model.predict(X_test) \n",
    "cm = confusion_matrix(y_test, pred)\n",
    "\n",
    "print(\"precisão: \", accuracy_score(y_test, pred))\n",
    "print(\"confusion_matrix: \", cm)"
   ]
  },
  {
   "cell_type": "code",
   "execution_count": 26,
   "metadata": {
    "colab": {
     "base_uri": "https://localhost:8080/",
     "height": 387
    },
    "id": "9nXpWf8E7VCE",
    "outputId": "bf045ea7-8096-4b14-91f2-14018f2ebad7",
    "scrolled": false
   },
   "outputs": [
    {
     "data": {
      "text/plain": [
       "<sklearn.metrics._plot.confusion_matrix.ConfusionMatrixDisplay at 0x1ed2b05d3a0>"
      ]
     },
     "execution_count": 26,
     "metadata": {},
     "output_type": "execute_result"
    },
    {
     "data": {
      "image/png": "[encoded data removed]",
      "text/plain": [
       "<Figure size 640x480 with 2 Axes>"
      ]
     },
     "metadata": {},
     "output_type": "display_data"
    }
   ],
   "source": [
    "disp = ConfusionMatrixDisplay(confusion_matrix = cm, display_labels=['não fraude', 'fraude'])\n",
    "disp.plot(values_format='d')"
   ]
  }
 ],
 "metadata": {
  "accelerator": "GPU",
  "colab": {
   "collapsed_sections": [],
   "name": "fraud_detection_resolution_with_rapids.ipynb",
   "provenance": []
  },
  "kernelspec": {
   "display_name": "Python 3 (ipykernel)",
   "language": "python",
   "name": "python3"
  },
  "language_info": {
   "codemirror_mode": {
    "name": "ipython",
    "version": 3
   },
   "file_extension": ".py",
   "mimetype": "text/x-python",
   "name": "python",
   "nbconvert_exporter": "python",
   "pygments_lexer": "ipython3",
   "version": "3.9.13"
  }
 },
 "nbformat": 4,
 "nbformat_minor": 1
}
